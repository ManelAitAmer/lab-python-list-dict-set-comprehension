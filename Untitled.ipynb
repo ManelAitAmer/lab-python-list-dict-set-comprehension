{
 "cells": [
  {
   "cell_type": "code",
   "execution_count": 1,
   "id": "169ab2b9",
   "metadata": {},
   "outputs": [
    {
     "data": {
      "text/plain": [
       "['t-shirt', 'mug', 'hat', 'book', 'keychain']"
      ]
     },
     "execution_count": 1,
     "metadata": {},
     "output_type": "execute_result"
    }
   ],
   "source": [
    "products = [\"t-shirt\", \"mug\", \"hat\", \"book\", \"keychain\"]\n",
    "products"
   ]
  },
  {
   "cell_type": "code",
   "execution_count": 2,
   "id": "712f159c",
   "metadata": {},
   "outputs": [],
   "source": [
    "def initialize_inventory(products):\n",
    "    inventory = {product: int(input(f\"Enter the quantity of {product}s available: \")) for product in products}\n",
    "    return inventory\n",
    "\n",
    "def get_customer_orders():\n",
    "    orders=int(input(\"Enter the number of customer orders: \"))\n",
    "    customer_orders={input(f\"Enter the name of a product that a customer wants to order: \")for i in range(orders)}\n",
    "    \n",
    "    return customer_orders\n",
    "\n",
    "def update_inventory (customer_orders,inventory):\n",
    "    \"\"\"jjjjjjjj\"\"\"\n",
    "    all_products={product for product in customer_orders}\n",
    "    updated_inventory={product:max(0, inventory.get(product, 0)-1 )for product in all_products }\n",
    "    updated_inventory.update({product: inventory[product] for product in inventory.keys() if product not in all_products})\n",
    "    return updated_inventory\n",
    "\n",
    "def calculate_total_price(customer_orders):\n",
    "    \"\"\" we sum the price of each product in customer orders products\"\"\"\n",
    "    \n",
    "    total_price = sum(float(input(f\"Enter the price of {product}: \")) for product in customer_orders)\n",
    "    return total_price\n",
    "\n",
    "def print_updated_inventory(updated_inventory):\n",
    "    \"\"\"Print the updated inventory.\"\"\"\n",
    "    print(\"Updated Inventory:\")\n",
    "    for product, quantity in updated_inventory.items():\n",
    "        print(f\"{product}: {quantity}\")\n"
   ]
  },
  {
   "cell_type": "code",
   "execution_count": 3,
   "id": "2a7ae173",
   "metadata": {
    "scrolled": true
   },
   "outputs": [
    {
     "name": "stdout",
     "output_type": "stream",
     "text": [
      "Enter the quantity of t-shirts available: 5\n",
      "Enter the quantity of mugs available: 4\n",
      "Enter the quantity of hats available: 3\n",
      "Enter the quantity of books available: 2\n",
      "Enter the quantity of keychains available: 1\n",
      "{'t-shirt': 5, 'mug': 4, 'hat': 3, 'book': 2, 'keychain': 1}\n",
      "Enter the number of customer orders: 2\n",
      "Enter the name of a product that a customer wants to order: hat\n",
      "Enter the name of a product that a customer wants to order: keychain\n",
      "{'keychain', 'hat'}\n"
     ]
    },
    {
     "ename": "NameError",
     "evalue": "name 'updated_inventory' is not defined",
     "output_type": "error",
     "traceback": [
      "\u001b[0;31m---------------------------------------------------------------------------\u001b[0m",
      "\u001b[0;31mNameError\u001b[0m                                 Traceback (most recent call last)",
      "Cell \u001b[0;32mIn[3], line 5\u001b[0m\n\u001b[1;32m      3\u001b[0m customer_orders \u001b[38;5;241m=\u001b[39m get_customer_orders()\n\u001b[1;32m      4\u001b[0m \u001b[38;5;28mprint\u001b[39m(customer_orders)\n\u001b[0;32m----> 5\u001b[0m \u001b[38;5;28mprint\u001b[39m(updated_inventory)\n\u001b[1;32m      6\u001b[0m calculate_total_price(customer_orders)\n\u001b[1;32m      7\u001b[0m print_updated_inventory(updated_inventory)\n",
      "\u001b[0;31mNameError\u001b[0m: name 'updated_inventory' is not defined"
     ]
    }
   ],
   "source": [
    "inventory=initialize_inventory(products)\n",
    "print(inventory)\n",
    "customer_orders = get_customer_orders()\n",
    "print(customer_orders)\n",
    "print(updated_inventory)\n",
    "calculate_total_price(customer_orders)\n",
    "print_updated_inventory(updated_inventory)"
   ]
  },
  {
   "cell_type": "code",
   "execution_count": null,
   "id": "7e768a00",
   "metadata": {},
   "outputs": [],
   "source": []
  }
 ],
 "metadata": {
  "kernelspec": {
   "display_name": "Python 3 (ipykernel)",
   "language": "python",
   "name": "python3"
  },
  "language_info": {
   "codemirror_mode": {
    "name": "ipython",
    "version": 3
   },
   "file_extension": ".py",
   "mimetype": "text/x-python",
   "name": "python",
   "nbconvert_exporter": "python",
   "pygments_lexer": "ipython3",
   "version": "3.11.5"
  }
 },
 "nbformat": 4,
 "nbformat_minor": 5
}
